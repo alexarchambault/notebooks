{
 "cells": [
  {
   "cell_type": "code",
   "execution_count": 1,
   "metadata": {
    "collapsed": true
   },
   "outputs": [
    {
     "name": "stdout",
     "output_type": "stream",
     "text": [
     ]
    },
    {
     "data": {
      "text/plain": []
     },
     "metadata": {},
     "output_type": "display_data"
    }
   ],
   "source": [
    "load.ivy(\"com.github.alexarchambault\" %% \"argonaut-shapeless_6.1\" % \"0.3.1-SNAPSHOT\")"
   ]
  },
  {
   "cell_type": "code",
   "execution_count": 2,
   "metadata": {
    "collapsed": false
   },
   "outputs": [
    {
     "data": {
      "text/plain": [
       "defined \u001b[32mclass \u001b[36mCC\u001b[0m"
      ]
     },
     "metadata": {},
     "output_type": "display_data"
    }
   ],
   "source": [
    "import special.wrap.obj // Wrap this in a singleton rather than a class, just in case\n",
    "\n",
    "case class CC(m: Map[String, argonaut.Json])"
   ]
  },
  {
   "cell_type": "code",
   "execution_count": 3,
   "metadata": {
    "collapsed": false
   },
   "outputs": [
    {
     "ename": "",
     "evalue": "",
     "output_type": "error",
     "traceback": [
      "Compilation Failed",
      "\u001b[31mMain.scala:52: could not find implicit value for evidence parameter of type argonaut.DecodeJson[specialObjCmd1.$user.CC]",
      "DecodeJson.of[CC]",
      "             ^\u001b[0m"
     ]
    }
   ],
   "source": [
    "{\n",
    "    import argonaut._, Argonaut._, Shapeless._\n",
    "    DecodeJson.of[CC]\n",
    "}"
   ]
  },
  {
   "cell_type": "code",
   "execution_count": 4,
   "metadata": {
    "collapsed": false
   },
   "outputs": [
    {
     "data": {
      "text/plain": [
       "\u001b[32mimport \u001b[36mscala.reflect.runtime.universe.{ reify, showCode }\u001b[0m"
      ]
     },
     "metadata": {},
     "output_type": "display_data"
    }
   ],
   "source": [
    "import scala.reflect.runtime.universe.{ reify, showCode }"
   ]
  },
  {
   "cell_type": "code",
   "execution_count": 18,
   "metadata": {
    "collapsed": false
   },
   "outputs": [
    {
     "data": {
      "text/plain": [
       "\u001b[36mres11\u001b[0m: \u001b[32mString\u001b[0m = \u001b[32m\"\"\"\n",
       "{\n",
       "  import argonaut._;\n",
       "  import Argonaut._;\n",
       "  import Shapeless.DecodeJsonDeriver._;\n",
       "  Predef.implicitly[DecodeJson[Predef.Map[Predef.String, Json]]](Argonaut.MapDecodeJson(Argonaut.JsonDecodeJson, Map.canBuildFrom))\n",
       "}\n",
       "\"\"\"\u001b[0m"
      ]
     },
     "metadata": {},
     "output_type": "display_data"
    }
   ],
   "source": [
    "showCode(reify {\n",
    "  import argonaut._, Argonaut._, Shapeless.DecodeJsonDeriver._\n",
    "  implicitly[DecodeJson[Map[String, Json]]]\n",
    "}.tree)"
   ]
  },
  {
   "cell_type": "markdown",
   "metadata": {},
   "source": [
    "`Argonaut.JsonDecodeJson` is used to decode `Json`, which is fine.\n",
    "\n",
    "But under `Lazy`, it seems that the additional implicits from `Shapeless.DecodeJsonDeriver` take over, and try to decode `Json` as an ADT. They're accessing constructors of `Json` which are `private[argonaut]`, hence the error."
   ]
  },
  {
   "cell_type": "code",
   "execution_count": 19,
   "metadata": {
    "collapsed": false
   },
   "outputs": [
    {
     "ename": "",
     "evalue": "",
     "output_type": "error",
     "traceback": [
      "Compilation Failed",
      "\u001b[31mMain.scala:79: object JArray in package argonaut cannot be accessed in package argonaut",
      "  shapeless.Lazy.mkLazy[DecodeJson[Map[String, Json]]]",
      "                       ^\u001b[0m"
     ]
    }
   ],
   "source": [
    "showCode(reify {\n",
    "  import argonaut._, Argonaut._, Shapeless.DecodeJsonDeriver._\n",
    "  shapeless.Lazy.mkLazy[DecodeJson[Map[String, Json]]]\n",
    "}.tree)"
   ]
  },
  {
   "cell_type": "markdown",
   "metadata": {},
   "source": [
    "Same thing with orphan derivation:"
   ]
  },
  {
   "cell_type": "code",
   "execution_count": 20,
   "metadata": {
    "collapsed": false
   },
   "outputs": [
    {
     "ename": "",
     "evalue": "",
     "output_type": "error",
     "traceback": [
      "Compilation Failed",
      "\u001b[31mMain.scala:79: object JArray in package argonaut cannot be accessed in package argonaut",
      "  shapeless.Lazy.mkLazy[DecodeJson[Map[String, Json]]]",
      "                       ^\u001b[0m"
     ]
    }
   ],
   "source": [
    "showCode(reify {\n",
    "  import argonaut._, Argonaut._, Shapeless._\n",
    "  shapeless.Lazy.mkLazy[DecodeJson[Map[String, Json]]]\n",
    "}.tree)"
   ]
  }
 ],
 "metadata": {
  "kernelspec": {
   "display_name": "Scala 2.11",
   "language": "scala211",
   "name": "scala211"
  },
  "language_info": {
   "codemirror_mode": "text/x-scala",
   "file_extension": "scala",
   "mimetype": "text/x-scala",
   "name": "scala211",
   "pygments_lexer": "scala",
   "version": "2.11.6"
  }
 },
 "nbformat": 4,
 "nbformat_minor": 0
}
