{
 "cells": [
  {
   "cell_type": "code",
   "execution_count": 1,
   "metadata": {
    "collapsed": true
   },
   "outputs": [
    {
     "name": "stdout",
     "output_type": "stream",
     "text": [
      ":: problems summary ::\n",
      ":::: WARNINGS\n",
      "\tUnable to reparse com.github.alexarchambault.jupyter#jupyter-scala-api_2.11.6;0.2.0-SNAPSHOT from sonatype-snapshots, using Fri Jun 05 10:12:58 CEST 2015\n",
      "\n",
      "\tChoosing sonatype-snapshots for com.github.alexarchambault.jupyter#jupyter-scala-api_2.11.6;0.2.0-SNAPSHOT\n",
      "\n",
      "\tUnable to reparse com.github.alexarchambault#ammonite-api_2.11.6;0.3.1-SNAPSHOT from sonatype-snapshots, using Thu Jun 04 00:37:50 CEST 2015\n",
      "\n",
      "\tChoosing sonatype-snapshots for com.github.alexarchambault#ammonite-api_2.11.6;0.3.1-SNAPSHOT\n",
      "\n",
      "\tUnable to reparse com.github.alexarchambault.jupyter#jupyter-api_2.11;0.2.0-SNAPSHOT from sonatype-snapshots, using Mon Jun 01 02:54:01 CEST 2015\n",
      "\n",
      "\tChoosing sonatype-snapshots for com.github.alexarchambault.jupyter#jupyter-api_2.11;0.2.0-SNAPSHOT\n",
      "\n"
     ]
    },
    {
     "data": {
      "text/plain": []
     },
     "metadata": {},
     "output_type": "display_data"
    }
   ],
   "source": [
    "load.ivy(\"com.chuusai\" %% \"shapeless\" % \"2.2.3\")"
   ]
  },
  {
   "cell_type": "code",
   "execution_count": 2,
   "metadata": {
    "collapsed": false
   },
   "outputs": [
    {
     "data": {
      "text/plain": [
       "\u001b[32mimport \u001b[36mshapeless._, ops.hlist._, ops.record._\u001b[0m"
      ]
     },
     "metadata": {},
     "output_type": "display_data"
    }
   ],
   "source": [
    "import shapeless._, ops.hlist._, ops.record._"
   ]
  },
  {
   "cell_type": "code",
   "execution_count": 3,
   "metadata": {
    "collapsed": false
   },
   "outputs": [
    {
     "data": {
      "text/plain": [
       "\u001b[32mimport \u001b[36mpoly._, record._\u001b[0m"
      ]
     },
     "metadata": {},
     "output_type": "display_data"
    }
   ],
   "source": [
    "import poly._, record._"
   ]
  },
  {
   "cell_type": "code",
   "execution_count": 4,
   "metadata": {
    "collapsed": false
   },
   "outputs": [
    {
     "ename": "",
     "evalue": "",
     "output_type": "error",
     "traceback": [
      "Compilation Failed",
      "\u001b[31mMain.scala:434: could not find implicit value for parameter toTraversableAux: shapeless.ops.hlist.ToTraversable.Aux[gen.Repr,List,Lub]",
      "    (r.keys.toList[Symbol], (r map identity).toList[Boolean], r.toList).zipped.toList collect collector",
      "                                                                ^\u001b[0m"
     ]
    }
   ],
   "source": [
    "def keyedGenerator[T, L <: HList, K <: HList, M <: HList](t: T)(collector: PartialFunction[(Symbol, Boolean, _), String])\n",
    "               (implicit gen: LabelledGeneric.Aux[T, L], keys: Keys.Aux[L, K],\n",
    "                mapper: Mapper.Aux[identity.type, L, M], toKL: ToList[K, Symbol], toEL: ToList[M, Boolean]): List[String] = {\n",
    "    val r = gen.to(t)\n",
    "    (r.keys.toList[Symbol], (r map identity).toList[Boolean], r.toList).zipped.toList collect collector\n",
    "  }"
   ]
  },
  {
   "cell_type": "code",
   "execution_count": 5,
   "metadata": {
    "collapsed": false
   },
   "outputs": [
    {
     "data": {
      "text/plain": [
       "defined \u001b[32mfunction \u001b[36mkeyedGenerator\u001b[0m"
      ]
     },
     "metadata": {},
     "output_type": "display_data"
    }
   ],
   "source": [
    "def keyedGenerator[T, L <: HList, K <: HList, M <: HList](t: T)(collector: PartialFunction[(Symbol, Boolean, _), String])\n",
    "               (implicit gen: LabelledGeneric.Aux[T, L], keys: Keys.Aux[L, K],\n",
    "                mapper: Mapper.Aux[identity.type, L, M], toKL: ToList[K, Symbol], toEL: ToList[M, Boolean], toListExtra: ToList[L, Any]): List[String] = {\n",
    "    val r = gen.to(t)\n",
    "    (r.keys.toList[Symbol], (r map identity).toList[Boolean], r.toList).zipped.toList collect collector\n",
    "  }"
   ]
  },
  {
   "cell_type": "code",
   "execution_count": null,
   "metadata": {
    "collapsed": true
   },
   "outputs": [],
   "source": []
  }
 ],
 "metadata": {
  "kernelspec": {
   "display_name": "Scala 2.11",
   "language": "scala211",
   "name": "scala211"
  },
  "language_info": {
   "codemirror_mode": "text/x-scala",
   "file_extension": "scala",
   "mimetype": "text/x-scala",
   "name": "scala211",
   "pygments_lexer": "scala",
   "version": "2.11.6"
  }
 },
 "nbformat": 4,
 "nbformat_minor": 0
}
