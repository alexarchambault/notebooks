{
 "cells": [
  {
   "cell_type": "markdown",
   "metadata": {},
   "source": [
    "### Adding shapeless."
   ]
  },
  {
   "cell_type": "code",
   "execution_count": 1,
   "metadata": {
    "collapsed": true
   },
   "outputs": [
    {
     "name": "stdout",
     "output_type": "stream",
     "text": [
      "\n"
     ]
    },
    {
     "data": {
      "text/plain": []
     },
     "metadata": {},
     "output_type": "display_data"
    }
   ],
   "source": [
    "load.ivy(\"com.chuusai\" %% \"shapeless\" % \"2.2.2\")"
   ]
  },
  {
   "cell_type": "code",
   "execution_count": 2,
   "metadata": {
    "collapsed": false
   },
   "outputs": [
    {
     "data": {
      "text/plain": [
       "\u001b[32mimport \u001b[36mshapeless._\u001b[0m"
      ]
     },
     "metadata": {},
     "output_type": "display_data"
    }
   ],
   "source": [
    "import shapeless._"
   ]
  },
  {
   "cell_type": "markdown",
   "metadata": {},
   "source": [
    "### Coproduct type with repeated types"
   ]
  },
  {
   "cell_type": "code",
   "execution_count": 3,
   "metadata": {
    "collapsed": false
   },
   "outputs": [
    {
     "data": {
      "text/plain": [
       "defined \u001b[32mtype \u001b[36mC1\u001b[0m"
      ]
     },
     "metadata": {},
     "output_type": "display_data"
    }
   ],
   "source": [
    "type C1 = Int :+: Int :+: String :+: CNil"
   ]
  },
  {
   "cell_type": "markdown",
   "metadata": {},
   "source": [
    "### Some instances of it"
   ]
  },
  {
   "cell_type": "code",
   "execution_count": 4,
   "metadata": {
    "collapsed": false
   },
   "outputs": [
    {
     "data": {
      "text/plain": [
       "\u001b[36mc11\u001b[0m: \u001b[32mC1\u001b[0m = 1\n",
       "\u001b[36mc12\u001b[0m: \u001b[32mC1\u001b[0m = 2\n",
       "\u001b[36mc13\u001b[0m: \u001b[32mC1\u001b[0m = a"
      ]
     },
     "metadata": {},
     "output_type": "display_data"
    }
   ],
   "source": [
    "val c11: C1 = Inl(1)\n",
    "val c12: C1 = Inr(Inl(2))\n",
    "val c13: C1 = Inr(Inr(Inl(\"a\")))"
   ]
  },
  {
   "cell_type": "markdown",
   "metadata": {},
   "source": [
    "### Check: embedded in its own type, a coproduct doesn't change"
   ]
  },
  {
   "cell_type": "code",
   "execution_count": 5,
   "metadata": {
    "collapsed": false
   },
   "outputs": [
    {
     "data": {
      "text/plain": [
       "\u001b[36mres4_0\u001b[0m: \u001b[32mBoolean\u001b[0m = true\n",
       "\u001b[36mres4_1\u001b[0m: \u001b[32mBoolean\u001b[0m = true\n",
       "\u001b[36mres4_2\u001b[0m: \u001b[32mBoolean\u001b[0m = true"
      ]
     },
     "metadata": {},
     "output_type": "display_data"
    }
   ],
   "source": [
    "c11.embed[C1] == c11\n",
    "c12.embed[C1] == c12\n",
    "c13.embed[C1] == c13"
   ]
  },
  {
   "cell_type": "markdown",
   "metadata": {},
   "source": [
    "### Defining `Basis0`, using `Remove` instead of `RemoveLast`"
   ]
  },
  {
   "cell_type": "code",
   "execution_count": 6,
   "metadata": {
    "collapsed": false
   },
   "outputs": [
    {
     "data": {
      "text/plain": [
       "defined \u001b[32mtrait \u001b[36mBasis0\u001b[0m\n",
       "defined \u001b[32mobject \u001b[36mBasis0\u001b[0m"
      ]
     },
     "metadata": {},
     "output_type": "display_data"
    }
   ],
   "source": [
    "  trait Basis0[Super <: Coproduct, Sub <: Coproduct] extends DepFn1[Super] with Serializable {\n",
    "    type Rest <: Coproduct\n",
    "    type Out = Either[Rest, Sub]\n",
    "    def inverse(e: Either[Rest, Sub]): Super\n",
    "  }\n",
    "\n",
    "  object Basis0 {\n",
    "    import shapeless.ops.coproduct._\n",
    "      \n",
    "    type Aux[Super <: Coproduct, Sub <: Coproduct, Rest0 <: Coproduct] =\n",
    "      Basis0[Super, Sub] { type Rest = Rest0 }\n",
    "\n",
    "    def apply[Super <: Coproduct, Sub <: Coproduct](implicit basis: Basis0[Super, Sub]): Aux[Super, Sub, basis.Rest] =\n",
    "      basis\n",
    "\n",
    "    implicit def cnilBasis[Super <: Coproduct]: Aux[Super, CNil, Super] = new Basis0[Super, CNil] {\n",
    "      type Rest = Super\n",
    "      def apply(s: Super) = Left(s)\n",
    "      def inverse(e: Either[Rest, CNil]) = e.left.get // No CNil exists, so e cannot be a Right\n",
    "    }\n",
    "\n",
    "    implicit def cconsBasis[Super <: Coproduct, H, T <: Coproduct, TRest <: Coproduct](implicit\n",
    "      tailBasis: Basis0.Aux[Super, T, TRest],\n",
    "      remove: Remove[TRest, H]\n",
    "    ): Aux[Super, H :+: T, remove.Rest] = new Basis0[Super, H :+: T] {\n",
    "      type Rest = remove.Rest\n",
    "\n",
    "      def apply(s: Super) = tailBasis(s) match {\n",
    "        case Left(r)  => remove(r) match {\n",
    "          case Left(h)  => Right(Inl(h))\n",
    "          case Right(r) => Left(r)\n",
    "        }\n",
    "        case Right(t) => Right(Inr(t))\n",
    "      }\n",
    "\n",
    "      def inverse(e: Either[Rest, H :+: T]) = e match {\n",
    "        case Left(r)  => tailBasis.inverse(Left(remove.inverse(Right(r))))\n",
    "        case Right(c) => c match {\n",
    "          case Inl(h)  => tailBasis.inverse(Left(remove.inverse(Left(h))))\n",
    "          case Inr(t)  => tailBasis.inverse(Right(t))\n",
    "        }\n",
    "      }\n",
    "    }\n",
    "  }\n"
   ]
  },
  {
   "cell_type": "markdown",
   "metadata": {},
   "source": [
    "### Define `embed0` method on coproducts using our `Basis0`"
   ]
  },
  {
   "cell_type": "code",
   "execution_count": 7,
   "metadata": {
    "collapsed": false
   },
   "outputs": [
    {
     "data": {
      "text/plain": [
       "defined \u001b[32mclass \u001b[36mCoproductExtraOps\u001b[0m"
      ]
     },
     "metadata": {},
     "output_type": "display_data"
    }
   ],
   "source": [
    "implicit class CoproductExtraOps[C <: Coproduct](c: C) {\n",
    "  def embed0[Super <: Coproduct](implicit basis: Basis0[Super, C]): Super =\n",
    "    basis.inverse(Right(c))\n",
    "}"
   ]
  },
  {
   "cell_type": "markdown",
   "metadata": {},
   "source": [
    "### The check above doesn't pass with `Basis0` / `embed0`"
   ]
  },
  {
   "cell_type": "code",
   "execution_count": 8,
   "metadata": {
    "collapsed": false
   },
   "outputs": [
    {
     "data": {
      "text/plain": [
       "\u001b[36mres7_0\u001b[0m: \u001b[32mBoolean\u001b[0m = false\n",
       "\u001b[36mres7_1\u001b[0m: \u001b[32mBoolean\u001b[0m = false\n",
       "\u001b[36mres7_2\u001b[0m: \u001b[32mBoolean\u001b[0m = true"
      ]
     },
     "metadata": {},
     "output_type": "display_data"
    }
   ],
   "source": [
    "c11.embed0[C1] == c11\n",
    "c12.embed0[C1] == c12\n",
    "c13.embed0[C1] == c13"
   ]
  },
  {
   "cell_type": "code",
   "execution_count": null,
   "metadata": {
    "collapsed": true
   },
   "outputs": [],
   "source": []
  }
 ],
 "metadata": {
  "kernelspec": {
   "display_name": "Scala 2.11",
   "language": "scala211",
   "name": "scala211"
  },
  "language_info": {
   "codemirror_mode": "text/x-scala",
   "file_extension": "scala",
   "mimetype": "text/x-scala",
   "name": "scala211",
   "pygments_lexer": "scala",
   "version": "2.11.6"
  }
 },
 "nbformat": 4,
 "nbformat_minor": 0
}
