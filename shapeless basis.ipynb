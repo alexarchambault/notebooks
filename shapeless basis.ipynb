{
 "cells": [
  {
   "cell_type": "code",
   "execution_count": 2,
   "metadata": {
    "collapsed": true
   },
   "outputs": [
    {
     "name": "stderr",
     "output_type": "stream",
     "text": [
      ":: problems summary ::"
     ]
    },
    {
     "name": "stdout",
     "output_type": "stream",
     "text": [
      ":::: WARNINGS\n",
      "\tUnable to reparse com.github.alexarchambault.jupyter#jupyter-scala-api_2.11.6;0.2.0-SNAPSHOT from sonatype-snapshots, using Fri Jun 05 10:12:58 CEST 2015\n",
      "\n",
      "\tChoosing sonatype-snapshots for com.github.alexarchambault.jupyter#jupyter-scala-api_2.11.6;0.2.0-SNAPSHOT\n",
      "\n",
      "\tUnable to reparse com.github.alexarchambault#ammonite-api_2.11.6;0.3.1-SNAPSHOT from sonatype-snapshots, using Thu Jun 04 00:37:50 CEST 2015\n",
      "\n",
      "\tChoosing sonatype-snapshots for com.github.alexarchambault#ammonite-api_2.11.6;0.3.1-SNAPSHOT\n",
      "\n",
      "\tUnable to reparse com.github.alexarchambault.jupyter#jupyter-api_2.11;0.2.0-SNAPSHOT from sonatype-snapshots, using Mon Jun 01 02:54:01 CEST 2015\n",
      "\n",
      "\tChoosing sonatype-snapshots for com.github.alexarchambault.jupyter#jupyter-api_2.11;0.2.0-SNAPSHOT\n",
      "\n"
     ]
    },
    {
     "name": "stderr",
     "output_type": "stream",
     "text": [
      "\n",
      ":::: ERRORS\n",
      "\tunknown resolver null\n",
      "\n"
     ]
    },
    {
     "data": {
      "text/plain": []
     },
     "metadata": {},
     "output_type": "display_data"
    }
   ],
   "source": [
    "load.ivy(\"com.chuusai\" %% \"shapeless\" % \"2.2.2\")"
   ]
  },
  {
   "cell_type": "code",
   "execution_count": 3,
   "metadata": {
    "collapsed": false
   },
   "outputs": [
    {
     "data": {
      "text/plain": [
       "\u001b[32mimport \u001b[36mshapeless._\u001b[0m"
      ]
     },
     "metadata": {},
     "output_type": "display_data"
    }
   ],
   "source": [
    "import shapeless._"
   ]
  },
  {
   "cell_type": "code",
   "execution_count": 4,
   "metadata": {
    "collapsed": false
   },
   "outputs": [
    {
     "data": {
      "text/plain": [
       "defined \u001b[32mtype \u001b[36mC1\u001b[0m"
      ]
     },
     "metadata": {},
     "output_type": "display_data"
    }
   ],
   "source": [
    "type C1 = Int :+: Int :+: String :+: CNil"
   ]
  },
  {
   "cell_type": "code",
   "execution_count": 7,
   "metadata": {
    "collapsed": false
   },
   "outputs": [
    {
     "data": {
      "text/plain": [
       "\u001b[36mc11\u001b[0m: \u001b[32mC1\u001b[0m = 1\n",
       "\u001b[36mc12\u001b[0m: \u001b[32mC1\u001b[0m = 2\n",
       "\u001b[36mc13\u001b[0m: \u001b[32mC1\u001b[0m = a"
      ]
     },
     "metadata": {},
     "output_type": "display_data"
    }
   ],
   "source": [
    "val c11: C1 = Inl(1)\n",
    "val c12: C1 = Inr(Inl(2))\n",
    "val c13: C1 = Inr(Inr(Inl(\"a\")))"
   ]
  },
  {
   "cell_type": "code",
   "execution_count": 10,
   "metadata": {
    "collapsed": false
   },
   "outputs": [
    {
     "data": {
      "text/plain": [
       "\u001b[36mres7_0\u001b[0m: \u001b[32mBoolean\u001b[0m = true\n",
       "\u001b[36mres7_1\u001b[0m: \u001b[32mBoolean\u001b[0m = true\n",
       "\u001b[36mres7_2\u001b[0m: \u001b[32mBoolean\u001b[0m = true"
      ]
     },
     "metadata": {},
     "output_type": "display_data"
    }
   ],
   "source": [
    "c11.embed[C1] == c11\n",
    "c12.embed[C1] == c12\n",
    "c13.embed[C1] == c13"
   ]
  },
  {
   "cell_type": "code",
   "execution_count": 15,
   "metadata": {
    "collapsed": false
   },
   "outputs": [
    {
     "data": {
      "text/plain": [
       "defined \u001b[32mtrait \u001b[36mBasis0\u001b[0m\n",
       "defined \u001b[32mobject \u001b[36mBasis0\u001b[0m"
      ]
     },
     "metadata": {},
     "output_type": "display_data"
    }
   ],
   "source": [
    "  trait Basis0[Super <: Coproduct, Sub <: Coproduct] extends DepFn1[Super] with Serializable {\n",
    "    type Rest <: Coproduct\n",
    "    type Out = Either[Rest, Sub]\n",
    "    def inverse(e: Either[Rest, Sub]): Super\n",
    "  }\n",
    "\n",
    "  object Basis0 {\n",
    "    import shapeless.ops.coproduct._\n",
    "      \n",
    "    type Aux[Super <: Coproduct, Sub <: Coproduct, Rest0 <: Coproduct] =\n",
    "      Basis0[Super, Sub] { type Rest = Rest0 }\n",
    "\n",
    "    def apply[Super <: Coproduct, Sub <: Coproduct](implicit basis: Basis0[Super, Sub]): Aux[Super, Sub, basis.Rest] =\n",
    "      basis\n",
    "\n",
    "    implicit def cnilBasis[Super <: Coproduct]: Aux[Super, CNil, Super] = new Basis0[Super, CNil] {\n",
    "      type Rest = Super\n",
    "      def apply(s: Super) = Left(s)\n",
    "      def inverse(e: Either[Rest, CNil]) = e.left.get // No CNil exists, so e cannot be a Right\n",
    "    }\n",
    "\n",
    "    implicit def cconsBasis[Super <: Coproduct, H, T <: Coproduct, TRest <: Coproduct](implicit\n",
    "      tailBasis: Basis0.Aux[Super, T, TRest],\n",
    "      remove: Remove[TRest, H]\n",
    "    ): Aux[Super, H :+: T, remove.Rest] = new Basis0[Super, H :+: T] {\n",
    "      type Rest = remove.Rest\n",
    "\n",
    "      def apply(s: Super) = tailBasis(s) match {\n",
    "        case Left(r)  => remove(r) match {\n",
    "          case Left(h)  => Right(Inl(h))\n",
    "          case Right(r) => Left(r)\n",
    "        }\n",
    "        case Right(t) => Right(Inr(t))\n",
    "      }\n",
    "\n",
    "      def inverse(e: Either[Rest, H :+: T]) = e match {\n",
    "        case Left(r)  => tailBasis.inverse(Left(remove.inverse(Right(r))))\n",
    "        case Right(c) => c match {\n",
    "          case Inl(h)  => tailBasis.inverse(Left(remove.inverse(Left(h))))\n",
    "          case Inr(t)  => tailBasis.inverse(Right(t))\n",
    "        }\n",
    "      }\n",
    "    }\n",
    "  }\n"
   ]
  },
  {
   "cell_type": "code",
   "execution_count": 16,
   "metadata": {
    "collapsed": false
   },
   "outputs": [
    {
     "data": {
      "text/plain": [
       "defined \u001b[32mclass \u001b[36mCoproductExtraOps\u001b[0m"
      ]
     },
     "metadata": {},
     "output_type": "display_data"
    }
   ],
   "source": [
    "implicit class CoproductExtraOps[C <: Coproduct](c: C) {\n",
    "  def embed0[Super <: Coproduct](implicit basis: Basis0[Super, C]): Super =\n",
    "    basis.inverse(Right(c))\n",
    "}"
   ]
  },
  {
   "cell_type": "code",
   "execution_count": 17,
   "metadata": {
    "collapsed": false
   },
   "outputs": [
    {
     "data": {
      "text/plain": [
       "\u001b[36mres13_0\u001b[0m: \u001b[32mBoolean\u001b[0m = false\n",
       "\u001b[36mres13_1\u001b[0m: \u001b[32mBoolean\u001b[0m = false\n",
       "\u001b[36mres13_2\u001b[0m: \u001b[32mBoolean\u001b[0m = true"
      ]
     },
     "metadata": {},
     "output_type": "display_data"
    }
   ],
   "source": [
    "c11.embed0[C1] == c11\n",
    "c12.embed0[C1] == c12\n",
    "c13.embed0[C1] == c13"
   ]
  },
  {
   "cell_type": "code",
   "execution_count": null,
   "metadata": {
    "collapsed": true
   },
   "outputs": [],
   "source": []
  }
 ],
 "metadata": {
  "kernelspec": {
   "display_name": "Scala 2.11",
   "language": "scala211",
   "name": "scala211"
  },
  "language_info": {
   "codemirror_mode": "text/x-scala",
   "file_extension": "scala",
   "mimetype": "text/x-scala",
   "name": "scala211",
   "pygments_lexer": "scala",
   "version": "2.11.6"
  }
 },
 "nbformat": 4,
 "nbformat_minor": 0
}
